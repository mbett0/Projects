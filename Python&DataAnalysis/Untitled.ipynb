{
 "cells": [
  {
   "cell_type": "code",
   "execution_count": null,
   "id": "96aff994",
   "metadata": {},
   "outputs": [],
   "source": [
    "import pandas as pd\n",
    "import matplotlib.pyplot as plt\n",
    "import numpy as np\n",
    "\n",
    "\n",
    "\n",
    "data = pd.DataFrame().assign(GPA=df['15. What is your current GPA?'], Lecture Activities=df['23. What are you normally doing during lectures?'], Hours on Social Media=df['60. On average, how many hours do you use social media per day?'], Lecture Attendance=df['22. How often do you attend lectures?'], Hours of Sleep = df['56. On average, how many hours of sleep do you get per day?']) \n",
    "\n",
    "\n",
    "\n",
    "data = data.replace({\"GPA\":{'3.5 - 4.0': 7, '3.0 - 3.49': 6, '2.5 - 2.99': 5, '2.0 - 2.49': 4, '1.5 - 1.99': 3,'1.0 - 1.49': 2, '0.5 - 0.99': 1, '0 - 0.49': 0}})\n",
    "\n",
    "data = data.replace({\"Lecture Activities\":{'Using your phone / computer': 1, 'Taking notes': 0, 'Listening without taking notes': 0}})"
   ]
  }
 ],
 "metadata": {
  "kernelspec": {
   "display_name": "Python 3 (ipykernel)",
   "language": "python",
   "name": "python3"
  },
  "language_info": {
   "codemirror_mode": {
    "name": "ipython",
    "version": 3
   },
   "file_extension": ".py",
   "mimetype": "text/x-python",
   "name": "python",
   "nbconvert_exporter": "python",
   "pygments_lexer": "ipython3",
   "version": "3.9.13"
  }
 },
 "nbformat": 4,
 "nbformat_minor": 5
}
